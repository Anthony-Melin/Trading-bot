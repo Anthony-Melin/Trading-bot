{
 "cells": [
  {
   "cell_type": "markdown",
   "id": "935be556-d01d-4ccb-9b5a-76e48b006fc0",
   "metadata": {},
   "source": [
    "# Traiding bot"
   ]
  },
  {
   "cell_type": "markdown",
   "id": "13d83fab-f45f-4d95-b6ad-7263ff2f055c",
   "metadata": {},
   "source": [
    "## importation des packages"
   ]
  },
  {
   "cell_type": "code",
   "execution_count": 5,
   "id": "36569ee6-409f-4123-bd6c-13bc683a62b5",
   "metadata": {
    "tags": []
   },
   "outputs": [],
   "source": [
    "import pandas as pd\n",
    "from binance.client import Client\n",
    "import ta"
   ]
  },
  {
   "cell_type": "markdown",
   "id": "fb9ec377-26d5-4d2e-bc0a-f7021ad144bf",
   "metadata": {
    "tags": []
   },
   "source": [
    "## Historique binance depuis 2020"
   ]
  },
  {
   "cell_type": "markdown",
   "id": "31fbb1b7-de45-4f45-a304-e47443a0ffcc",
   "metadata": {},
   "source": [
    "On charge les données, et on défini les colonnes des données renvoyées par Binance"
   ]
  },
  {
   "cell_type": "code",
   "execution_count": 6,
   "id": "8270080d-d7be-4cc8-8f89-001f1f8d43ff",
   "metadata": {},
   "outputs": [],
   "source": [
    "klinesT = Client().get_historical_klines(\"BTCUSDT\", Client.KLINE_INTERVAL_1HOUR, \"01 January 2020\")\n",
    "df = pd.DataFrame(klinesT, columns = ['timestamp', 'open', 'high', 'low', 'close', 'volume', 'close_time', 'quote_av', 'trades', 'tb_base_av', 'tb_quote_av', 'ignore' ])\n"
   ]
  },
  {
   "cell_type": "markdown",
   "id": "30040929-ff65-4714-95cc-d91cbe922310",
   "metadata": {},
   "source": [
    "La je fais un peu de ménage, y'a plein de colonnes renvoyées par Binance qui n'ont aucun intêret.\n",
    "Je convertis quelques colonnes en numérique (arrondi plus précis)"
   ]
  },
  {
   "cell_type": "code",
   "execution_count": 8,
   "id": "0f3488f5-de1d-4e2f-a384-70045b37cb59",
   "metadata": {},
   "outputs": [
    {
     "name": "stdout",
     "output_type": "stream",
     "text": [
      "           timestamp      open      high       low     close          volume\n",
      "0      1577836800000   7195.24   7196.25   7175.46   7177.02    511.81490100\n",
      "1      1577840400000   7176.47   7230.00   7175.71   7216.27    883.05260300\n",
      "2      1577844000000   7215.52   7244.87   7211.41   7242.85    655.15680900\n",
      "3      1577847600000   7242.66   7245.00   7220.00   7225.01    783.72486700\n",
      "4      1577851200000   7225.00   7230.00   7215.03   7217.27    467.81257800\n",
      "...              ...       ...       ...       ...       ...             ...\n",
      "23241  1661616000000  19976.08  20029.00  19838.80  20002.67  10408.29498000\n",
      "23242  1661619600000  20002.67  20100.00  19971.22  19985.67   6822.97998000\n",
      "23243  1661623200000  19985.67  20033.92  19945.16  19958.41   4434.89305000\n",
      "23244  1661626800000  19959.20  20048.00  19931.36  20018.00   4885.56915000\n",
      "23245  1661630400000  20018.00  20040.40  19941.83  19949.25   2505.66185000\n",
      "\n",
      "[23246 rows x 6 columns]\n"
     ]
    }
   ],
   "source": [
    "del df['ignore']\n",
    "del df['close_time']\n",
    "del df['quote_av']\n",
    "del df['trades']\n",
    "del df['tb_base_av']\n",
    "del df['tb_quote_av']\n",
    "\n",
    "df['close'] = pd.to_numeric(df['close'])\n",
    "df['high'] = pd.to_numeric(df['high'])\n",
    "df['low'] = pd.to_numeric(df['low'])\n",
    "df['open'] = pd.to_numeric(df['open'])\n",
    "print(df)"
   ]
  },
  {
   "cell_type": "markdown",
   "id": "a308629c-4f73-44c6-872e-924eb4ca6063",
   "metadata": {},
   "source": [
    " "
   ]
  },
  {
   "cell_type": "markdown",
   "id": "e88feaa0-2657-40b8-b3a8-f6d867ec3d04",
   "metadata": {},
   "source": [
    "Ici le timestamp est illisible, je le converti en date et je le défini comme index du tableau"
   ]
  },
  {
   "cell_type": "code",
   "execution_count": 9,
   "id": "11f78ed3-41f5-4752-84b4-0d89f4bb36b1",
   "metadata": {},
   "outputs": [
    {
     "name": "stdout",
     "output_type": "stream",
     "text": [
      "                         open      high       low     close          volume\n",
      "timestamp                                                                  \n",
      "2020-01-01 00:00:00   7195.24   7196.25   7175.46   7177.02    511.81490100\n",
      "2020-01-01 01:00:00   7176.47   7230.00   7175.71   7216.27    883.05260300\n",
      "2020-01-01 02:00:00   7215.52   7244.87   7211.41   7242.85    655.15680900\n",
      "2020-01-01 03:00:00   7242.66   7245.00   7220.00   7225.01    783.72486700\n",
      "2020-01-01 04:00:00   7225.00   7230.00   7215.03   7217.27    467.81257800\n",
      "...                       ...       ...       ...       ...             ...\n",
      "2022-08-27 16:00:00  19976.08  20029.00  19838.80  20002.67  10408.29498000\n",
      "2022-08-27 17:00:00  20002.67  20100.00  19971.22  19985.67   6822.97998000\n",
      "2022-08-27 18:00:00  19985.67  20033.92  19945.16  19958.41   4434.89305000\n",
      "2022-08-27 19:00:00  19959.20  20048.00  19931.36  20018.00   4885.56915000\n",
      "2022-08-27 20:00:00  20018.00  20040.40  19941.83  19949.25   2505.66185000\n",
      "\n",
      "[23246 rows x 5 columns]\n"
     ]
    }
   ],
   "source": [
    "df = df.set_index(df['timestamp'])\n",
    "df.index = pd.to_datetime(df.index, unit='ms')\n",
    "\n",
    "del df['timestamp']\n",
    "print(df)"
   ]
  },
  {
   "cell_type": "markdown",
   "id": "a93877c0-807c-4336-b097-4ffffe855f82",
   "metadata": {},
   "source": [
    " \n",
    " "
   ]
  },
  {
   "cell_type": "markdown",
   "id": "1ae96e68-f022-4060-bd4b-4775354641a4",
   "metadata": {},
   "source": [
    "Après je sais pas combien de temps de recherche j'ai trouvé comment utiliser quelques indicateurs.\n",
    "Ici je calcul et j'intègre au tableau de données les valeurs des SMA 200 et 600"
   ]
  },
  {
   "cell_type": "code",
   "execution_count": 11,
   "id": "0e2bd826-426b-4247-b991-8c1bdf90ad85",
   "metadata": {},
   "outputs": [
    {
     "name": "stdout",
     "output_type": "stream",
     "text": [
      "                         open      high       low     close          volume  \\\n",
      "timestamp                                                                     \n",
      "2020-01-01 00:00:00   7195.24   7196.25   7175.46   7177.02    511.81490100   \n",
      "2020-01-01 01:00:00   7176.47   7230.00   7175.71   7216.27    883.05260300   \n",
      "2020-01-01 02:00:00   7215.52   7244.87   7211.41   7242.85    655.15680900   \n",
      "2020-01-01 03:00:00   7242.66   7245.00   7220.00   7225.01    783.72486700   \n",
      "2020-01-01 04:00:00   7225.00   7230.00   7215.03   7217.27    467.81257800   \n",
      "...                       ...       ...       ...       ...             ...   \n",
      "2022-08-27 16:00:00  19976.08  20029.00  19838.80  20002.67  10408.29498000   \n",
      "2022-08-27 17:00:00  20002.67  20100.00  19971.22  19985.67   6822.97998000   \n",
      "2022-08-27 18:00:00  19985.67  20033.92  19945.16  19958.41   4434.89305000   \n",
      "2022-08-27 19:00:00  19959.20  20048.00  19931.36  20018.00   4885.56915000   \n",
      "2022-08-27 20:00:00  20018.00  20040.40  19941.83  19949.25   2505.66185000   \n",
      "\n",
      "                          SMA200        SMA600  \n",
      "timestamp                                       \n",
      "2020-01-01 00:00:00          NaN           NaN  \n",
      "2020-01-01 01:00:00          NaN           NaN  \n",
      "2020-01-01 02:00:00          NaN           NaN  \n",
      "2020-01-01 03:00:00          NaN           NaN  \n",
      "2020-01-01 04:00:00          NaN           NaN  \n",
      "...                          ...           ...  \n",
      "2022-08-27 16:00:00  21245.71980  22836.036367  \n",
      "2022-08-27 17:00:00  21236.88830  22830.701083  \n",
      "2022-08-27 18:00:00  21228.59970  22825.663250  \n",
      "2022-08-27 19:00:00  21221.35015  22820.774567  \n",
      "2022-08-27 20:00:00  21213.42445  22815.639017  \n",
      "\n",
      "[23246 rows x 7 columns]\n"
     ]
    }
   ],
   "source": [
    "df['SMA200'] = ta.trend.sma_indicator(df['close'], 200)\n",
    "df['SMA600'] = ta.trend.sma_indicator(df['close'], 600)\n",
    "print(df)"
   ]
  },
  {
   "cell_type": "markdown",
   "id": "a02ab702-309c-4c2e-baf6-3500cce41541",
   "metadata": {},
   "source": [
    " "
   ]
  },
  {
   "cell_type": "markdown",
   "id": "77868ab3-41c2-48eb-9ada-98b65c17dd7e",
   "metadata": {},
   "source": [
    "## Backtest"
   ]
  },
  {
   "cell_type": "markdown",
   "id": "6d961484-4c61-4765-a49c-bb5bfde81a28",
   "metadata": {},
   "source": [
    "=> reprise du code; \n",
    "Pourquoi utiliser a la fois lastIndex et index dans la même boucle => on compare des valeurs qui ne sont pas sur la même ligne ? a eclaircir"
   ]
  },
  {
   "cell_type": "code",
   "execution_count": 19,
   "id": "703976b7-2c54-45da-81e1-4d3d7108fe81",
   "metadata": {},
   "outputs": [
    {
     "name": "stdout",
     "output_type": "stream",
     "text": [
      "2020-01-25 23:00:00 2020-01-26 00:00:00\n",
      "Buy BTC at 8325.95 $ the 2020-01-26 00:00:00\n",
      "Sell BTC at 9601.09 $ the 2020-02-24 19:00:00\n",
      "2020-04-01 02:00:00 2020-04-01 03:00:00\n",
      "Buy BTC at 6368.68 $ the 2020-04-01 03:00:00\n",
      "Sell BTC at 8859.62 $ the 2020-05-27 04:00:00\n",
      "2020-06-02 10:00:00 2020-06-02 11:00:00\n",
      "Buy BTC at 10115.56 $ the 2020-06-02 11:00:00\n",
      "Sell BTC at 9403.01 $ the 2020-06-18 13:00:00\n",
      "2020-07-13 17:00:00 2020-07-13 18:00:00\n",
      "Buy BTC at 9290.23 $ the 2020-07-13 18:00:00\n",
      "Sell BTC at 9117.69 $ the 2020-07-17 10:00:00\n",
      "2020-07-18 15:00:00 2020-07-18 16:00:00\n",
      "Buy BTC at 9164.57 $ the 2020-07-18 16:00:00\n",
      "Sell BTC at 11400.12 $ the 2020-08-27 01:00:00\n",
      "2020-09-21 22:00:00 2020-09-21 23:00:00\n",
      "Buy BTC at 10417.22 $ the 2020-09-21 23:00:00\n",
      "Sell BTC at 10571.36 $ the 2020-10-06 19:00:00\n",
      "2020-10-10 17:00:00 2020-10-10 18:00:00\n",
      "Buy BTC at 11363.33 $ the 2020-10-10 18:00:00\n",
      "Sell BTC at 32801.15 $ the 2021-01-24 07:00:00\n",
      "2021-02-05 02:00:00 2021-02-05 03:00:00\n",
      "Buy BTC at 37366.02 $ the 2021-02-05 03:00:00\n",
      "Sell BTC at 47789.87 $ the 2021-03-02 22:00:00\n",
      "2021-03-10 07:00:00 2021-03-10 08:00:00\n",
      "Buy BTC at 54632.79 $ the 2021-03-10 08:00:00\n",
      "Sell BTC at 57854.32 $ the 2021-03-29 11:00:00\n",
      "2021-04-02 19:00:00 2021-04-02 20:00:00\n",
      "Buy BTC at 58670.64 $ the 2021-04-02 20:00:00\n",
      "Sell BTC at 54744.24 $ the 2021-04-22 14:00:00\n",
      "2021-05-07 18:00:00 2021-05-07 19:00:00\n",
      "Buy BTC at 57584.01 $ the 2021-05-07 19:00:00\n",
      "Sell BTC at 47964.69 $ the 2021-05-15 22:00:00\n",
      "2021-06-16 08:00:00 2021-06-16 09:00:00\n",
      "Buy BTC at 39952.7 $ the 2021-06-16 09:00:00\n",
      "Sell BTC at 33982.26 $ the 2021-06-23 07:00:00\n",
      "2021-07-27 13:00:00 2021-07-27 14:00:00\n",
      "Buy BTC at 38242.96 $ the 2021-07-27 14:00:00\n",
      "Sell BTC at 45150.33 $ the 2021-09-12 06:00:00\n",
      "2021-10-05 06:00:00 2021-10-05 07:00:00\n",
      "Buy BTC at 49476.51 $ the 2021-10-05 07:00:00\n",
      "Sell BTC at 56989.77 $ the 2021-11-19 09:00:00\n",
      "2021-12-27 14:00:00 2021-12-27 15:00:00\n",
      "Buy BTC at 51450.57 $ the 2021-12-27 15:00:00\n",
      "Sell BTC at 46999.98 $ the 2022-01-03 02:00:00\n",
      "2022-02-07 17:00:00 2022-02-07 18:00:00\n",
      "Buy BTC at 44065.25 $ the 2022-02-07 18:00:00\n",
      "Sell BTC at 38137.91 $ the 2022-02-23 00:00:00\n",
      "2022-03-06 06:00:00 2022-03-06 07:00:00\n",
      "Buy BTC at 39387.57 $ the 2022-03-06 07:00:00\n",
      "Sell BTC at 39316.99 $ the 2022-03-10 21:00:00\n",
      "2022-03-17 04:00:00 2022-03-17 05:00:00\n",
      "Buy BTC at 41062.31 $ the 2022-03-17 05:00:00\n",
      "Sell BTC at 40776.38 $ the 2022-03-17 17:00:00\n",
      "2022-03-19 19:00:00 2022-03-19 20:00:00\n",
      "Buy BTC at 42191.28 $ the 2022-03-19 20:00:00\n",
      "Sell BTC at 40803.87 $ the 2022-04-11 14:00:00\n",
      "2022-06-03 03:00:00 2022-06-03 04:00:00\n",
      "Buy BTC at 30425.0 $ the 2022-06-03 04:00:00\n",
      "Sell BTC at 27932.6 $ the 2022-06-12 16:00:00\n",
      "2022-07-10 19:00:00 2022-07-10 20:00:00\n",
      "Buy BTC at 20987.27 $ the 2022-07-10 20:00:00\n",
      "Sell BTC at 21229.52 $ the 2022-08-21 05:00:00\n"
     ]
    }
   ],
   "source": [
    "usdt = 1000\n",
    "btc = 0\n",
    "lastIndex = df.first_valid_index()\n",
    "\n",
    "for index, row in df.iterrows():\n",
    "    if df['SMA200'][lastIndex] > df['SMA600'][lastIndex] and usdt > 10:\n",
    "        print(lastIndex, index)\n",
    "        btc = usdt / df['close'][index] \n",
    "        btc = btc - 0.0007 * btc\n",
    "        usdt = 0\n",
    "        print(\"Buy BTC at\",df['close'][index],'$ the', index)\n",
    "\n",
    "    if df['SMA200'][lastIndex] < df['SMA600'][lastIndex] and btc > 0.0001:\n",
    "        usdt = btc * df['close'][index]\n",
    "        usdt = usdt - 0.0007 * usdt\n",
    "        btc = 0\n",
    "        print(\"Sell BTC at\",df['close'][index],'$ the', index)\n",
    "    lastIndex = index"
   ]
  },
  {
   "cell_type": "code",
   "execution_count": null,
   "id": "ad5feba2-0092-4f9e-a5f3-f49dcdad4bc9",
   "metadata": {},
   "outputs": [],
   "source": []
  }
 ],
 "metadata": {
  "kernelspec": {
   "display_name": "Python 3 (ipykernel)",
   "language": "python",
   "name": "python3"
  },
  "language_info": {
   "codemirror_mode": {
    "name": "ipython",
    "version": 3
   },
   "file_extension": ".py",
   "mimetype": "text/x-python",
   "name": "python",
   "nbconvert_exporter": "python",
   "pygments_lexer": "ipython3",
   "version": "3.9.12"
  }
 },
 "nbformat": 4,
 "nbformat_minor": 5
}
